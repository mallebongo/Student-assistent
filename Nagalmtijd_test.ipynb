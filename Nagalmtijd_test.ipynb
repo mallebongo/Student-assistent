{
 "cells": [
  {
   "cell_type": "code",
   "execution_count": 1,
   "id": "f69e0585-67f7-4b04-bc49-92d8280252cf",
   "metadata": {},
   "outputs": [
    {
     "data": {
      "text/plain": [
       "   0 Microsoft-geluidstoewijzing - Input, MME (2 in, 0 out)\n",
       ">  1 Microfoon (Realtek High Definit, MME (2 in, 0 out)\n",
       "   2 Microfoon (Steam Streaming Micr, MME (8 in, 0 out)\n",
       "   3 Microsoft-geluidstoewijzing - Output, MME (0 in, 2 out)\n",
       "<  4 Luidsprekers (Realtek High Defi, MME (0 in, 2 out)\n",
       "   5 Luidsprekers (Steam Streaming S, MME (0 in, 8 out)\n",
       "   6 Luidsprekers (Steam Streaming M, MME (0 in, 8 out)\n",
       "   7 Stereo-mix (Realtek HD Audio Stereo input), Windows WDM-KS (2 in, 0 out)\n",
       "   8 Microfoon (Realtek HD Audio Mic input), Windows WDM-KS (2 in, 0 out)\n",
       "   9 Speakers (Realtek HD Audio output), Windows WDM-KS (0 in, 2 out)\n",
       "  10 Output (@System32\\drivers\\bthhfenum.sys,#4;%1 Hands-Free HF Audio%0\n",
       ";(Fairphone 4)), Windows WDM-KS (0 in, 1 out)\n",
       "  11 Input (@System32\\drivers\\bthhfenum.sys,#4;%1 Hands-Free HF Audio%0\n",
       ";(Fairphone 4)), Windows WDM-KS (1 in, 0 out)\n",
       "  12 Input (), Windows WDM-KS (2 in, 0 out)\n",
       "  13 Microfoon (Steam Streaming Microphone Wave), Windows WDM-KS (8 in, 0 out)\n",
       "  14 Speakers (Steam Streaming Microphone Wave), Windows WDM-KS (0 in, 8 out)\n",
       "  15 Hoofdtelefoon (@System32\\drivers\\bthhfenum.sys,#2;%1 Hands-Free%0\n",
       ";(Arctis 3 Bluetooth)), Windows WDM-KS (0 in, 1 out)\n",
       "  16 Hoofdtelefoon (@System32\\drivers\\bthhfenum.sys,#2;%1 Hands-Free%0\n",
       ";(Arctis 3 Bluetooth)), Windows WDM-KS (1 in, 0 out)\n",
       "  17 Hoofdtelefoon (), Windows WDM-KS (0 in, 2 out)\n",
       "  18 Input (Steam Streaming Speakers Wave), Windows WDM-KS (8 in, 0 out)\n",
       "  19 Speakers (Steam Streaming Speakers Wave), Windows WDM-KS (0 in, 8 out)"
      ]
     },
     "execution_count": 1,
     "metadata": {},
     "output_type": "execute_result"
    }
   ],
   "source": [
    "import sounddevice as sd\n",
    "import numpy as np\n",
    "\n",
    "sd.query_devices()"
   ]
  },
  {
   "cell_type": "code",
   "execution_count": 61,
   "id": "91bde0a1-8823-4f76-abb2-34d4ec48ca6b",
   "metadata": {},
   "outputs": [],
   "source": [
    "duration = 2\n",
    "fs = 44000\n",
    "recording = sd.rec(int(duration * fs), device = 1,channels=2)\n",
    "\n",
    "sd.wait()"
   ]
  },
  {
   "cell_type": "code",
   "execution_count": 62,
   "id": "fb3ddaf2-34e9-4506-8036-801f8024497d",
   "metadata": {},
   "outputs": [
    {
     "name": "stdout",
     "output_type": "stream",
     "text": [
      "(88000, 2)\n"
     ]
    }
   ],
   "source": [
    "print(np.shape(recording))"
   ]
  },
  {
   "cell_type": "code",
   "execution_count": 63,
   "id": "3b18b931-a10b-43c4-9874-c9889e8c28d3",
   "metadata": {},
   "outputs": [
    {
     "data": {
      "image/png": "[encoded data removed]",
      "text/plain": [
       "<Figure size 432x288 with 1 Axes>"
      ]
     },
     "metadata": {
      "needs_background": "light"
     },
     "output_type": "display_data"
    }
   ],
   "source": [
    "import matplotlib.pyplot as plt\n",
    "\n",
    "plt.plot(recording)\n",
    "plt.plot(recording[:,1]+2, color='C0')\n",
    "plt.plot(recording[:,0]-2, color='C1')\n",
    "\n",
    "plt.axis('off')\n",
    "\n",
    "plt.show()"
   ]
  },
  {
   "cell_type": "code",
   "execution_count": 98,
   "id": "ab9e7c1d-4501-49c3-a1f4-e49b609eaf0e",
   "metadata": {},
   "outputs": [],
   "source": [
    "rec = recording[:,0]"
   ]
  },
  {
   "cell_type": "code",
   "execution_count": 99,
   "id": "bbb0b7ff-0f90-4f45-afff-1e2cb1b57606",
   "metadata": {},
   "outputs": [],
   "source": [
    "sample_max = max(rec)\n",
    "percentage_nagalm = 0.6"
   ]
  },
  {
   "cell_type": "code",
   "execution_count": 100,
   "id": "16be729d-e985-4093-b34d-27728d4731e7",
   "metadata": {
    "tags": []
   },
   "outputs": [],
   "source": [
    "lager_dan_max = []\n",
    "for i in range(len(rec)):\n",
    "    if rec[i] < percentage_nagalm*sample_max:\n",
    "        lager_dan_max.append(1)\n",
    "    else:\n",
    "        lager_dan_max.append(-1)"
   ]
  },
  {
   "cell_type": "code",
   "execution_count": 101,
   "id": "cd9a0249-1599-4545-b661-dd94db692f6b",
   "metadata": {},
   "outputs": [
    {
     "name": "stdout",
     "output_type": "stream",
     "text": [
      "88000\n"
     ]
    }
   ],
   "source": [
    "print(len(rec))\n",
    "plotter = range(0,len(rec))"
   ]
  },
  {
   "cell_type": "code",
   "execution_count": 102,
   "id": "9e15ab6b-ae6b-47a7-94c8-a9e627492763",
   "metadata": {},
   "outputs": [
    {
     "data": {
      "text/plain": [
       "<matplotlib.collections.PathCollection at 0x21add319640>"
      ]
     },
     "execution_count": 102,
     "metadata": {},
     "output_type": "execute_result"
    },
    {
     "data": {
      "image/png": "[encoded data removed]",
      "text/plain": [
       "<Figure size 432x288 with 1 Axes>"
      ]
     },
     "metadata": {
      "needs_background": "light"
     },
     "output_type": "display_data"
    }
   ],
   "source": [
    "plt.scatter(plotter,lager_dan_max)\n",
    "plt.scatter(plotter, rec)"
   ]
  },
  {
   "cell_type": "code",
   "execution_count": 103,
   "id": "01f243c7-041f-40a2-9df9-aa3c2f0bdda6",
   "metadata": {},
   "outputs": [],
   "source": [
    "rec_abs = abs(rec)"
   ]
  },
  {
   "cell_type": "code",
   "execution_count": 104,
   "id": "9d02790d-47b4-4bb7-b5d1-5fe3dd966464",
   "metadata": {},
   "outputs": [],
   "source": [
    "sample_max = max(rec)\n",
    "percentage_nagalm = 0.6"
   ]
  },
  {
   "cell_type": "code",
   "execution_count": 105,
   "id": "450cff07-b9e0-4ea7-8036-12ddc74d02b4",
   "metadata": {},
   "outputs": [],
   "source": [
    "lager_dan_max_abs = []\n",
    "for i in range(len(rec_abs)):\n",
    "    if rec_abs[i] < percentage_nagalm*sample_max:\n",
    "        lager_dan_max_abs.append(0)\n",
    "    else:\n",
    "        lager_dan_max_abs.append(1)"
   ]
  },
  {
   "cell_type": "code",
   "execution_count": 106,
   "id": "624a0a65-3c73-4db9-a592-44e402703eaf",
   "metadata": {},
   "outputs": [
    {
     "name": "stdout",
     "output_type": "stream",
     "text": [
      "88000\n"
     ]
    }
   ],
   "source": [
    "print(len(rec))\n",
    "plotter = range(0,len(rec))"
   ]
  },
  {
   "cell_type": "code",
   "execution_count": 107,
   "id": "9376788d-8404-4b12-9d32-e6e60cea7ddd",
   "metadata": {},
   "outputs": [
    {
     "data": {
      "text/plain": [
       "<matplotlib.collections.PathCollection at 0x21ad78b3b20>"
      ]
     },
     "execution_count": 107,
     "metadata": {},
     "output_type": "execute_result"
    },
    {
     "data": {
      "image/png": "[encoded data removed]",
      "text/plain": [
       "<Figure size 432x288 with 1 Axes>"
      ]
     },
     "metadata": {
      "needs_background": "light"
     },
     "output_type": "display_data"
    }
   ],
   "source": [
    "plt.scatter(plotter,lager_dan_max_abs)\n",
    "plt.scatter(plotter, rec_abs)"
   ]
  },
  {
   "cell_type": "code",
   "execution_count": 108,
   "id": "5b9296ba-6d8b-4440-bddc-0f6c0bcc8035",
   "metadata": {},
   "outputs": [
    {
     "name": "stdout",
     "output_type": "stream",
     "text": [
      "26304\n",
      "27957\n"
     ]
    }
   ],
   "source": [
    "for i in range(0,len(lager_dan_max_abs)-1):\n",
    "    if lager_dan_max_abs[i] == 1:\n",
    "        eerste_punt = i\n",
    "        print(i)\n",
    "        break\n",
    "for i in range(len(lager_dan_max_abs)-1,0,-1):\n",
    "    if lager_dan_max_abs[i] == 1:\n",
    "        laaste_punt = i\n",
    "        print(i)\n",
    "        break"
   ]
  },
  {
   "cell_type": "code",
   "execution_count": 109,
   "id": "48487fa1-6dac-431d-9178-c919e7a1eae6",
   "metadata": {},
   "outputs": [],
   "source": [
    "door_getrokken = np.zeros_like(lager_dan_max_abs)\n",
    "door_getrokken[eerste_punt:laaste_punt] = 1"
   ]
  },
  {
   "cell_type": "code",
   "execution_count": 110,
   "id": "58e43950-3064-4b7c-ad47-87413ae3f89d",
   "metadata": {},
   "outputs": [
    {
     "data": {
      "text/plain": [
       "<matplotlib.collections.PathCollection at 0x21ad791a0a0>"
      ]
     },
     "execution_count": 110,
     "metadata": {},
     "output_type": "execute_result"
    },
    {
     "data": {
      "image/png": "[encoded data removed]",
      "text/plain": [
       "<Figure size 432x288 with 1 Axes>"
      ]
     },
     "metadata": {
      "needs_background": "light"
     },
     "output_type": "display_data"
    }
   ],
   "source": [
    "plt.scatter(plotter,door_getrokken)\n",
    "plt.scatter(plotter, rec_abs)"
   ]
  },
  {
   "cell_type": "code",
   "execution_count": 111,
   "id": "ec598b3b-68e6-4dc4-bda3-2a7c06afa8c2",
   "metadata": {},
   "outputs": [],
   "source": [
    "nagalm_tijd = sum(door_getrokken)/fs"
   ]
  },
  {
   "cell_type": "code",
   "execution_count": 113,
   "id": "7e7db4fb-3156-4a37-9042-aa34254a6b4d",
   "metadata": {},
   "outputs": [
    {
     "name": "stdout",
     "output_type": "stream",
     "text": [
      "0.03756818181818182 sec om van max naar 60% te komen\n"
     ]
    }
   ],
   "source": [
    "print(f'{nagalm_tijd} sec om van max naar 60% te komen')"
   ]
  },
  {
   "cell_type": "markdown",
   "id": "49dc79bf-2d26-43c7-8544-17e294f9e926",
   "metadata": {},
   "source": [
    "# DEcibel omrekenen"
   ]
  },
  {
   "cell_type": "code",
   "execution_count": 69,
   "id": "fe8cc54c-3293-451a-b184-b2ed886cdf3a",
   "metadata": {},
   "outputs": [],
   "source": [
    "i_0 = 10**-12"
   ]
  },
  {
   "cell_type": "code",
   "execution_count": 79,
   "id": "7c8ca232-a751-483e-917f-1f341a0923d6",
   "metadata": {},
   "outputs": [
    {
     "name": "stderr",
     "output_type": "stream",
     "text": [
      "<ipython-input-79-ba09aa7cd9dc>:1: RuntimeWarning: divide by zero encountered in log10\n",
      "  rec_db = np.log10(rec/i_0)\n",
      "<ipython-input-79-ba09aa7cd9dc>:1: RuntimeWarning: invalid value encountered in log10\n",
      "  rec_db = np.log10(rec/i_0)\n"
     ]
    }
   ],
   "source": [
    "rec_db = np.log10(rec/i_0)"
   ]
  },
  {
   "cell_type": "code",
   "execution_count": 80,
   "id": "ed625aa2-2fdc-4023-9919-f3ea55127cc8",
   "metadata": {},
   "outputs": [
    {
     "name": "stdout",
     "output_type": "stream",
     "text": [
      "[ 9.8537655  9.419048  10.133885  ...        nan        nan        nan]\n"
     ]
    }
   ],
   "source": [
    "print(rec_db[20000:25000])"
   ]
  },
  {
   "cell_type": "code",
   "execution_count": 81,
   "id": "0643c904-4915-4a9c-b866-83953c8f6434",
   "metadata": {},
   "outputs": [
    {
     "data": {
      "text/plain": [
       "[<matplotlib.lines.Line2D at 0x21adce0bfa0>]"
      ]
     },
     "execution_count": 81,
     "metadata": {},
     "output_type": "execute_result"
    },
    {
     "data": {
      "image/png": "[encoded data removed]",
      "text/plain": [
       "<Figure size 432x288 with 1 Axes>"
      ]
     },
     "metadata": {
      "needs_background": "light"
     },
     "output_type": "display_data"
    }
   ],
   "source": [
    "plt.plot(rec_db)"
   ]
  },
  {
   "cell_type": "code",
   "execution_count": null,
   "id": "77448002-fc87-45f0-8f11-e4c15b428f8a",
   "metadata": {},
   "outputs": [],
   "source": []
  }
 ],
 "metadata": {
  "kernelspec": {
   "display_name": "Python 3",
   "language": "python",
   "name": "python3"
  },
  "language_info": {
   "codemirror_mode": {
    "name": "ipython",
    "version": 3
   },
   "file_extension": ".py",
   "mimetype": "text/x-python",
   "name": "python",
   "nbconvert_exporter": "python",
   "pygments_lexer": "ipython3",
   "version": "3.8.8"
  }
 },
 "nbformat": 4,
 "nbformat_minor": 5
}
